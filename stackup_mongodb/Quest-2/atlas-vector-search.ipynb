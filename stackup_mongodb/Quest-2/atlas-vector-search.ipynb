{
 "cells": [
  {
   "cell_type": "markdown",
   "metadata": {},
   "source": [
    "# Vector Search on Mongo Atlas\n",
    "\n",
    "This Python notebook will show you how to connect to MongoDB Atlas programatically as well as how to perform Atlas Vector Search."
   ]
  },
  {
   "cell_type": "code",
   "execution_count": 1,
   "metadata": {},
   "outputs": [],
   "source": [
    "import os, sys\n",
    "import pprint\n",
    "import json\n",
    "import time\n",
    "\n",
    "# Change system path to root direcotry\n",
    "sys.path.insert(0, '../')"
   ]
  },
  {
   "cell_type": "markdown",
   "metadata": {},
   "source": [
    "## Load Settings"
   ]
  },
  {
   "cell_type": "code",
   "execution_count": 2,
   "metadata": {},
   "outputs": [
    {
     "name": "stdout",
     "output_type": "stream",
     "text": [
      "ATLAS_URI Connection string found: <your-atlas-connection-string>\n",
      "OPENAI_API_KEY Connection string found: sk-proj-ktTgMoNaJBS2KDJJrm0ZT3BlbkFJWRCB5OjDIm9NXdHr2s3y\n"
     ]
    }
   ],
   "source": [
    "# Load settings from .env file\n",
    "from dotenv import find_dotenv, dotenv_values\n",
    "\n",
    "# _ = load_dotenv(find_dotenv()) # read local .env file\n",
    "config = dotenv_values(find_dotenv())\n",
    "\n",
    "# For debugging purposes\n",
    "# print (config)\n",
    "\n",
    "ATLAS_URI = config.get('ATLAS_URI')\n",
    "OPENAI_API_KEY = config.get(\"OPENAI_API_KEY\")\n",
    "\n",
    "if not ATLAS_URI:\n",
    "    raise Exception (\"'ATLAS_URI' is not set.  Please set it above to continue...\")\n",
    "else:\n",
    "    print(\"ATLAS_URI Connection string found:\", ATLAS_URI)\n",
    "\n",
    "if not OPENAI_API_KEY:\n",
    "    raise Exception (\"'OPENAI_API_KEY' is not set.  Please set it above to continue...\")\n",
    "else:\n",
    "    print(\"OPENAI_API_KEY Connection string found:\", OPENAI_API_KEY)"
   ]
  },
  {
   "cell_type": "code",
   "execution_count": 3,
   "metadata": {},
   "outputs": [],
   "source": [
    "# Our variables\n",
    "DB_NAME = 'sample_mflix'\n",
    "COLLECTION_NAME = 'embedded_movies'\n",
    "INDEX_NAME = 'idx_plot_embedding'"
   ]
  },
  {
   "cell_type": "markdown",
   "metadata": {},
   "source": [
    "## Find My IP Address\n",
    "\n",
    "This IP address should be added to Atlas' 'access list' for the connection to work. If you completed Quest 1, this should be configured correctly already."
   ]
  },
  {
   "cell_type": "code",
   "execution_count": 4,
   "metadata": {},
   "outputs": [
    {
     "name": "stdout",
     "output_type": "stream",
     "text": [
      "My IP address is 106.79.205.229 \n",
      "Make sure that this IP address is allowed to connect to cloud Atlas\n"
     ]
    }
   ],
   "source": [
    "from urllib.request import urlopen\n",
    "ip = urlopen('https://api.ipify.org').read()\n",
    "decoded_ip = ip.decode('utf-8')\n",
    "\n",
    "print (f\"My IP address is {decoded_ip} \\nMake sure that this IP address is allowed to connect to cloud Atlas\")"
   ]
  },
  {
   "cell_type": "markdown",
   "metadata": {},
   "source": [
    "## Initialize Mongo Atlas Client\n",
    "\n",
    "We start by intializing a connection to the Mongo Atlas Client."
   ]
  },
  {
   "cell_type": "code",
   "execution_count": 5,
   "metadata": {},
   "outputs": [
    {
     "ename": "ModuleNotFoundError",
     "evalue": "No module named 'pymongo'",
     "output_type": "error",
     "traceback": [
      "\u001b[0;31m---------------------------------------------------------------------------\u001b[0m",
      "\u001b[0;31mModuleNotFoundError\u001b[0m                       Traceback (most recent call last)",
      "Cell \u001b[0;32mIn[5], line 1\u001b[0m\n\u001b[0;32m----> 1\u001b[0m \u001b[38;5;28;01mfrom\u001b[39;00m \u001b[38;5;21;01mAtlasClient\u001b[39;00m \u001b[38;5;28;01mimport\u001b[39;00m AtlasClient\n\u001b[1;32m      3\u001b[0m atlas_client \u001b[38;5;241m=\u001b[39m AtlasClient (ATLAS_URI, DB_NAME)\n\u001b[1;32m      4\u001b[0m \u001b[38;5;28mprint\u001b[39m(\u001b[38;5;124m\"\u001b[39m\u001b[38;5;124mConnected to the Mongo Atlas database!\u001b[39m\u001b[38;5;124m\"\u001b[39m)\n",
      "File \u001b[0;32m~/stackup-mongodb/Quest-2/../AtlasClient.py:1\u001b[0m\n\u001b[0;32m----> 1\u001b[0m \u001b[38;5;28;01mfrom\u001b[39;00m \u001b[38;5;21;01mpymongo\u001b[39;00m \u001b[38;5;28;01mimport\u001b[39;00m MongoClient\n\u001b[1;32m      3\u001b[0m \u001b[38;5;28;01mclass\u001b[39;00m \u001b[38;5;21;01mAtlasClient\u001b[39;00m ():\n\u001b[1;32m      5\u001b[0m     \u001b[38;5;28;01mdef\u001b[39;00m \u001b[38;5;21m__init__\u001b[39m(\u001b[38;5;28mself\u001b[39m, altas_uri, dbname):\n",
      "\u001b[0;31mModuleNotFoundError\u001b[0m: No module named 'pymongo'"
     ]
    }
   ],
   "source": [
    "from AtlasClient import AtlasClient\n",
    "\n",
    "atlas_client = AtlasClient (ATLAS_URI, DB_NAME)\n",
    "print(\"Connected to the Mongo Atlas database!\")"
   ]
  },
  {
   "cell_type": "markdown",
   "metadata": {},
   "source": [
    "## Initialize OpenAI Client\n",
    "Recall that we'll be using OpenAI as our embedding model. Although we already have embeddings in our embedded_movies dataset, we'll still need an embedding model that is able to help us generate embeddings for the input queries so that its able to be compared against the vectors stored in the database (i.e. compare vectors against vectors instead of text against vectors)."
   ]
  },
  {
   "cell_type": "code",
   "execution_count": null,
   "metadata": {},
   "outputs": [],
   "source": [
    "from OpenAIClient import OpenAIClient\n",
    "\n",
    "openAI_client = OpenAIClient(api_key=OPENAI_API_KEY)\n",
    "print (\"OpenAI client initialized!\")"
   ]
  },
  {
   "cell_type": "markdown",
   "metadata": {},
   "source": [
    "With our OpenAI client initialized, let's do a **quick vectorization test** as a sanity check! Essentially, what we're doing here is using the vectorizer provided by OpenAI to get the vector representation (i.e. numerical representation) of the string \"a futuristic Sci-fi movie\"."
   ]
  },
  {
   "cell_type": "code",
   "execution_count": null,
   "metadata": {},
   "outputs": [],
   "source": [
    "text = 'a futuristic Sci-fi movie'\n",
    "\n",
    "embedding = openAI_client.get_embedding(text)\n",
    "print (f\"Text: '{text}'\\nEmbeddding_length: {len(embedding)}\\nFirst 10 numbers of embedding:\", embedding [:10] )"
   ]
  },
  {
   "cell_type": "markdown",
   "metadata": {},
   "source": [
    "## Atlas Vector Search \n",
    "Now for the fun part! We are going to do an embedding search on our embedded_movies dataset based on movie plots. What this means is that we're searching for movies based on the **meaning** of their plots.\n",
    "\n",
    "We're **not** searching for keywords within plots, but we're searching movies that have plots that have the closest semantic meaning to our input query.\n",
    "\n",
    "Check out the examples below!"
   ]
  },
  {
   "cell_type": "code",
   "execution_count": null,
   "metadata": {},
   "outputs": [],
   "source": [
    "query = \"imaginary characters from outerspace at war with earthlings\"\n",
    "\n",
    "embedding = openAI_client.get_embedding(query)\n",
    "movies = atlas_client.vector_search(collection_name=COLLECTION_NAME, index_name=INDEX_NAME, attr_name='plot_embedding', embedding_vector=embedding,limit=10 )\n",
    "print (f\"Found {len (movies)} movies\")\n",
    "for idx, movie in enumerate (movies):\n",
    "    print(f'{idx+1}\\nid: {movie[\"_id\"]}\\ntitle: {movie[\"title\"]},\\nyear: {movie[\"year\"]}\\nplot: {movie[\"plot\"]}\\n')"
   ]
  },
  {
   "cell_type": "code",
   "execution_count": null,
   "metadata": {},
   "outputs": [],
   "source": [
    "query = \"superheroes saving earth\"\n",
    "\n",
    "embedding = openAI_client.get_embedding(query)\n",
    "movies = atlas_client.vector_search(collection_name=COLLECTION_NAME, index_name=INDEX_NAME, attr_name='plot_embedding', embedding_vector=embedding,limit=10 )\n",
    "print (f\"Found {len (movies)} movies\")\n",
    "for idx, movie in enumerate (movies):\n",
    "    print(f'{idx+1}\\nid: {movie[\"_id\"]}\\ntitle: {movie[\"title\"]},\\nyear: {movie[\"year\"]}\\nplot: {movie[\"plot\"]}\\n')"
   ]
  },
  {
   "cell_type": "markdown",
   "metadata": {},
   "source": [
    "## Try Your Own Searches!\n",
    "\n",
    "As you can see from the sample searches above, the results retrieved from our query are ranked based on how close the semantic meaning of the values `plot` field matches with our queries. This is the power of Atlas Vector Search - we're searching via comparing semantic meaning (i.e. comparing vectors), as opposed to merely 1:1 value matching.\n",
    "\n",
    "Now, try to search for your own query! **Replace the placeholder value in the string below and enter your own custom query**. "
   ]
  },
  {
   "cell_type": "code",
   "execution_count": null,
   "metadata": {},
   "outputs": [],
   "source": [
    "# TODO: enter your query here\n",
    "query = \"detective fight crime\"\n",
    "\n",
    "embedding= openAI_client.get_embedding(query)\n",
    "\n",
    "movies = atlas_client.vector_search(collection_name=COLLECTION_NAME, index_name=INDEX_NAME, attr_name='plot_embedding', embedding_vector=embedding,limit=10 )\n",
    "print (f\"Found {len (movies)} movies\")\n",
    "for idx, movie in enumerate (movies):\n",
    "    print(f'{idx+1}\\nid: {movie[\"_id\"]}\\ntitle: {movie[\"title\"]},\\nyear: {movie[\"year\"]}\\nplot: {movie[\"plot\"]}\\n')"
   ]
  },
  {
   "cell_type": "markdown",
   "metadata": {},
   "source": [
    "Good job following till the end! Now let's **head back to StackUp** to complete our submission."
   ]
  },
  {
   "cell_type": "code",
   "execution_count": null,
   "metadata": {},
   "outputs": [],
   "source": []
  },
  {
   "cell_type": "code",
   "execution_count": null,
   "metadata": {},
   "outputs": [],
   "source": []
  }
 ],
 "metadata": {
  "kernelspec": {
   "display_name": "atlas-1",
   "language": "python",
   "name": "atlas-1"
  },
  "language_info": {
   "codemirror_mode": {
    "name": "ipython",
    "version": 3
   },
   "file_extension": ".py",
   "mimetype": "text/x-python",
   "name": "python",
   "nbconvert_exporter": "python",
   "pygments_lexer": "ipython3",
   "version": "3.11.5"
  }
 },
 "nbformat": 4,
 "nbformat_minor": 4
}
